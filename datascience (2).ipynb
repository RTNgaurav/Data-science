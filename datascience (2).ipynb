{
 "cells": [
  {
   "cell_type": "markdown",
   "id": "0131dc2a-3609-4b64-ad3e-4c22d342a1b6",
   "metadata": {},
   "source": [
    "python is a programming language.\n",
    "\n",
    "python is widly used programming language in data science field."
   ]
  },
  {
   "cell_type": "code",
   "execution_count": 1,
   "id": "2995977e-bd36-484f-ab3a-f8d26224f2c1",
   "metadata": {},
   "outputs": [
    {
     "name": "stdout",
     "output_type": "stream",
     "text": [
      "hellow data science world!\n"
     ]
    }
   ],
   "source": [
    "print(\"hellow data science world!\")"
   ]
  },
  {
   "cell_type": "code",
   "execution_count": 1,
   "id": "78be7950-8f4c-461d-aa5a-cb5a84189d61",
   "metadata": {},
   "outputs": [
    {
     "name": "stdout",
     "output_type": "stream",
     "text": [
      "gaurav jadhav!\n"
     ]
    }
   ],
   "source": [
    "print(\"gaurav jadhav!\")"
   ]
  },
  {
   "cell_type": "markdown",
   "id": "ae1f8c9e-bd5d-4aeb-a06e-7c118b96123b",
   "metadata": {},
   "source": [
    "Here i am printing my name using python programming language."
   ]
  },
  {
   "cell_type": "code",
   "execution_count": 5,
   "id": "3ebea06d-ba91-4963-a036-d5828558140d",
   "metadata": {},
   "outputs": [
    {
     "data": {
      "text/plain": [
       "50"
      ]
     },
     "execution_count": 5,
     "metadata": {},
     "output_type": "execute_result"
    }
   ],
   "source": [
    "24+26"
   ]
  },
  {
   "cell_type": "code",
   "execution_count": 6,
   "id": "fd45519c-81b9-4d94-8a25-5c584aa80a97",
   "metadata": {},
   "outputs": [
    {
     "data": {
      "text/plain": [
       "576"
      ]
     },
     "execution_count": 6,
     "metadata": {},
     "output_type": "execute_result"
    }
   ],
   "source": [
    "24*24"
   ]
  },
  {
   "cell_type": "code",
   "execution_count": null,
   "id": "50aeb072-1136-45cf-a9ed-c16ef848118e",
   "metadata": {},
   "outputs": [],
   "source": []
  }
 ],
 "metadata": {
  "kernelspec": {
   "display_name": "Python 3 (ipykernel)",
   "language": "python",
   "name": "python3"
  },
  "language_info": {
   "codemirror_mode": {
    "name": "ipython",
    "version": 3
   },
   "file_extension": ".py",
   "mimetype": "text/x-python",
   "name": "python",
   "nbconvert_exporter": "python",
   "pygments_lexer": "ipython3",
   "version": "3.12.4"
  }
 },
 "nbformat": 4,
 "nbformat_minor": 5
}
